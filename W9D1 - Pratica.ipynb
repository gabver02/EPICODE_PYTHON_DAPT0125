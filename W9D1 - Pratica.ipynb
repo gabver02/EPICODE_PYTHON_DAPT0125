{
 "cells": [
  {
   "cell_type": "code",
   "execution_count": 40,
   "id": "f6b307ba-0c31-4520-86e6-d808ad9d2200",
   "metadata": {},
   "outputs": [
    {
     "name": "stdout",
     "output_type": "stream",
     "text": [
      "Totale Studenti = 25\n"
     ]
    }
   ],
   "source": [
    "# Esercizio pagina 3/4\n",
    "numero_studenti = 25\n",
    "print(\"Totale Studenti =\",numero_studenti)"
   ]
  },
  {
   "cell_type": "code",
   "execution_count": 36,
   "id": "197d3a54-743c-4991-a085-872e3543a0b2",
   "metadata": {},
   "outputs": [
    {
     "name": "stdout",
     "output_type": "stream",
     "text": [
      "Totale Studenti = 28\n"
     ]
    }
   ],
   "source": [
    "# Esercizio pagina 5/6\n",
    "numero_studenti = 25\n",
    "nuovi_studenti = 3\n",
    "print(\"Totale Studenti =\", numero_studenti + nuovi_studenti)"
   ]
  },
  {
   "cell_type": "code",
   "execution_count": 70,
   "id": "a73ed5a0-4714-4ce3-9faa-f0bad8329e37",
   "metadata": {},
   "outputs": [
    {
     "name": "stdout",
     "output_type": "stream",
     "text": [
      "Epicode\n"
     ]
    }
   ],
   "source": [
    "# Esercizio pagina 7\n",
    "nome_scuola = \"Epicode\"\n",
    "print(nome_scuola)"
   ]
  },
  {
   "cell_type": "code",
   "execution_count": 68,
   "id": "aaa11208-4918-42f3-83c2-3e7c5f48e924",
   "metadata": {},
   "outputs": [
    {
     "name": "stdout",
     "output_type": "stream",
     "text": [
      "36\n"
     ]
    }
   ],
   "source": [
    "# Esercizio pagina 8\n",
    "x = 10\n",
    "print((x+2)*3)"
   ]
  },
  {
   "cell_type": "code",
   "execution_count": 52,
   "id": "79bd4628-f6de-4144-b15b-fa31927c3250",
   "metadata": {},
   "outputs": [
    {
     "name": "stdout",
     "output_type": "stream",
     "text": [
      "7\n",
      "5\n",
      "10\n",
      "4\n"
     ]
    }
   ],
   "source": [
    "# Esercizio pagina 9\n",
    "str1 = \"Windows\"\n",
    "str2 = \"Excel\"\n",
    "str3 = \"Powerpoint\"\n",
    "str4 = \"Word\"\n",
    "\n",
    "print(len(str1))\n",
    "print(len(str2))\n",
    "print(len(str3))\n",
    "print(len(str4))"
   ]
  },
  {
   "cell_type": "code",
   "execution_count": 58,
   "id": "258b2e68-8e8a-4e86-88f3-196f4e438129",
   "metadata": {},
   "outputs": [
    {
     "name": "stdout",
     "output_type": "stream",
     "text": [
      "Secondi in un anno = 31536000\n"
     ]
    }
   ],
   "source": [
    "# Esercizio pagina 10\n",
    "giorni = 365\n",
    "ore = 24\n",
    "minuti = 60\n",
    "secondi = 60\n",
    "\n",
    "secondi_in_un_anno = giorni * ore * minuti * secondi\n",
    "print(\"Secondi in un anno =\",secondi_in_un_anno)"
   ]
  },
  {
   "cell_type": "code",
   "execution_count": 66,
   "id": "96aa64ee-cebb-4ef7-8c66-ff99eb152143",
   "metadata": {},
   "outputs": [
    {
     "name": "stdout",
     "output_type": "stream",
     "text": [
      "I AM STUDYING PYTHON\n",
      "i am studying python\n",
      "I am studying a lot\n",
      "I am studying Python\n",
      "['I', 'am', 'studying', 'Python']\n"
     ]
    }
   ],
   "source": [
    "# Esercizio pagina 11\n",
    "my_string = \"I am studying Python\"\n",
    "\n",
    "# Tutti maiuscoli\n",
    "print(my_string.upper())\n",
    "\n",
    "# Tutti minuscoli\n",
    "print(my_string.lower())\n",
    "\n",
    "# Sostituire \"Python\" con \"a lot\"\n",
    "print(my_string.replace(\"Python\", \"a lot\"))\n",
    "\n",
    "# Usare .strip() (non cambia nulla perché non ci sono spazi all'inizio o alla fine)\n",
    "print(my_string.strip())\n",
    "\n",
    "# Suddividere in parole\n",
    "print(my_string.split())"
   ]
  },
  {
   "cell_type": "code",
   "execution_count": null,
   "id": "c5d75dec-27ed-4498-8d81-c4ca1627b5fb",
   "metadata": {},
   "outputs": [],
   "source": []
  }
 ],
 "metadata": {
  "kernelspec": {
   "display_name": "Python [conda env:base] *",
   "language": "python",
   "name": "conda-base-py"
  },
  "language_info": {
   "codemirror_mode": {
    "name": "ipython",
    "version": 3
   },
   "file_extension": ".py",
   "mimetype": "text/x-python",
   "name": "python",
   "nbconvert_exporter": "python",
   "pygments_lexer": "ipython3",
   "version": "3.12.7"
  }
 },
 "nbformat": 4,
 "nbformat_minor": 5
}
