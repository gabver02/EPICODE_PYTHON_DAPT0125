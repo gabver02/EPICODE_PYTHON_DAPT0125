{
 "cells": [
  {
   "cell_type": "code",
   "execution_count": 6,
   "id": "d8bc3646-ff10-45b0-8f51-1bee6b7a2956",
   "metadata": {},
   "outputs": [
    {
     "name": "stdout",
     "output_type": "stream",
     "text": [
      "E\n",
      "p\n",
      "i\n",
      "c\n",
      "o\n",
      "d\n",
      "e\n"
     ]
    }
   ],
   "source": [
    "#Esercizio Pag 2\n",
    "nome_scuola = \"Epicode\"\n",
    "indice = 0 \n",
    "\n",
    "while indice < len(nome_scuola):\n",
    "    print(nome_scuola[indice])\n",
    "    indice += 1"
   ]
  },
  {
   "cell_type": "code",
   "execution_count": 12,
   "id": "bafde2f5-cc69-4216-a014-6407775a2348",
   "metadata": {},
   "outputs": [
    {
     "name": "stdout",
     "output_type": "stream",
     "text": [
      "0\n",
      "1\n",
      "2\n",
      "3\n",
      "4\n",
      "5\n",
      "6\n",
      "7\n",
      "8\n",
      "9\n",
      "10\n",
      "11\n",
      "12\n",
      "13\n",
      "14\n",
      "15\n",
      "16\n",
      "17\n",
      "18\n",
      "19\n",
      "20\n"
     ]
    }
   ],
   "source": [
    "#Esercizio Pag 3\n",
    "numero = 0\n",
    "\n",
    "while numero <= 20:\n",
    "    print(numero)\n",
    "    numero += 1"
   ]
  },
  {
   "cell_type": "code",
   "execution_count": 16,
   "id": "29990f32-3ae3-47e3-bcb2-a2179f4ced41",
   "metadata": {},
   "outputs": [
    {
     "name": "stdout",
     "output_type": "stream",
     "text": [
      "1\n",
      "2\n",
      "4\n",
      "8\n",
      "16\n",
      "32\n",
      "64\n",
      "128\n",
      "256\n",
      "512\n"
     ]
    }
   ],
   "source": [
    "#Esercizio Pag 4\n",
    "esponente = 0\n",
    "\n",
    "while esponente < 10:\n",
    "    print(2 ** esponente)\n",
    "    esponente += 1"
   ]
  },
  {
   "cell_type": "code",
   "execution_count": 20,
   "id": "bee271c6-1aee-4164-8ba8-6fd39cb18154",
   "metadata": {},
   "outputs": [
    {
     "name": "stdin",
     "output_type": "stream",
     "text": [
      "Inserisci il valore di N:  10\n"
     ]
    },
    {
     "name": "stdout",
     "output_type": "stream",
     "text": [
      "1\n",
      "2\n",
      "4\n",
      "8\n",
      "16\n",
      "32\n",
      "64\n",
      "128\n",
      "256\n",
      "512\n"
     ]
    }
   ],
   "source": [
    "#Esercizio Pag 5\n",
    "N = int(input(\"Inserisci il valore di N: \"))\n",
    "esponente = 0\n",
    "\n",
    "while esponente < N:\n",
    "    print(2 ** esponente)\n",
    "    esponente += 1\n"
   ]
  },
  {
   "cell_type": "code",
   "execution_count": 22,
   "id": "9fcc0e05-abfd-4ccb-883e-1f11b8ae3521",
   "metadata": {},
   "outputs": [
    {
     "name": "stdout",
     "output_type": "stream",
     "text": [
      "1\n",
      "2\n",
      "4\n",
      "8\n",
      "16\n",
      "32\n",
      "64\n",
      "128\n",
      "256\n",
      "512\n",
      "1024\n",
      "2048\n",
      "4096\n",
      "8192\n",
      "16384\n"
     ]
    }
   ],
   "source": [
    "#Esercizio Pag 6\n",
    "esponente = 0\n",
    "\n",
    "while 2 ** esponente < 25000:\n",
    "    print(2 ** esponente)\n",
    "    esponente += 1"
   ]
  },
  {
   "cell_type": "code",
   "execution_count": 32,
   "id": "727d5c80-f042-4517-82ec-09a48216b412",
   "metadata": {},
   "outputs": [
    {
     "name": "stdin",
     "output_type": "stream",
     "text": [
      "Inserisci una Parola:  Python\n"
     ]
    },
    {
     "name": "stdout",
     "output_type": "stream",
     "text": [
      "Pyt...hon\n"
     ]
    }
   ],
   "source": [
    "#Esercizio Pag 7\n",
    "stringa = input(\"Inserisci una Parola: \")\n",
    "\n",
    "if len(stringa) < 6:\n",
    "    print(stringa)\n",
    "else:\n",
    "    print(stringa[:3] + \"...\" + stringa[-3:])"
   ]
  },
  {
   "cell_type": "code",
   "execution_count": 34,
   "id": "159e8dc6-5847-437d-b1bd-d1f00a18273c",
   "metadata": {},
   "outputs": [
    {
     "name": "stdin",
     "output_type": "stream",
     "text": [
      "Inserisci un numero:  80\n"
     ]
    },
    {
     "name": "stdout",
     "output_type": "stream",
     "text": [
      "[2, 2, 2, 2, 5]\n"
     ]
    }
   ],
   "source": [
    "#Esercizio Pag 8\n",
    "numero = int(input(\"Inserisci un numero: \"))\n",
    "fattori = []\n",
    "\n",
    "divisore = 2\n",
    "\n",
    "while numero > 1:\n",
    "    while numero % divisore == 0:\n",
    "        fattori.append(divisore)\n",
    "        numero //= divisore\n",
    "    divisore += 1\n",
    "\n",
    "print(fattori)"
   ]
  },
  {
   "cell_type": "code",
   "execution_count": 5,
   "id": "ff3e1dfa-d9f1-47ef-9fe1-f103b9c0b0c6",
   "metadata": {},
   "outputs": [
    {
     "name": "stdout",
     "output_type": "stream",
     "text": [
      "E\n",
      "p\n",
      "i\n",
      "c\n",
      "o\n",
      "d\n",
      "e\n"
     ]
    }
   ],
   "source": [
    "#Esercizio Pag 9\n",
    "nome_scuola = \"Epicode\"\n",
    "\n",
    "for a in nome_scuola:\n",
    "    print(a)"
   ]
  },
  {
   "cell_type": "code",
   "execution_count": 7,
   "id": "718381b6-cd44-4b1d-9b2e-6cce21f12773",
   "metadata": {},
   "outputs": [
    {
     "name": "stdout",
     "output_type": "stream",
     "text": [
      "1\n",
      "2\n",
      "4\n",
      "8\n",
      "16\n",
      "32\n",
      "64\n",
      "128\n",
      "256\n",
      "512\n"
     ]
    }
   ],
   "source": [
    "#Esercizio Pag 10\n",
    "for esponente in range(10):\n",
    "    print(2 ** esponente)"
   ]
  },
  {
   "cell_type": "code",
   "execution_count": 9,
   "id": "c031c491-7743-4164-860d-23b0e054d31d",
   "metadata": {},
   "outputs": [
    {
     "name": "stdin",
     "output_type": "stream",
     "text": [
      "Inserisci la base K:  2\n",
      "Inserisci quante potenze vuoi calcolare (N):  4\n"
     ]
    },
    {
     "name": "stdout",
     "output_type": "stream",
     "text": [
      "[1, 2, 4, 8]\n"
     ]
    }
   ],
   "source": [
    "#Esercizio Pag 11 while\n",
    "K = int(input(\"Inserisci la base K: \"))\n",
    "N = int(input(\"Inserisci quante potenze vuoi calcolare (N): \"))\n",
    "\n",
    "potenze = []\n",
    "i = 0\n",
    "while i < N:\n",
    "    potenze.append(K ** i)\n",
    "    i += 1\n",
    "\n",
    "print(potenze)"
   ]
  },
  {
   "cell_type": "code",
   "execution_count": 11,
   "id": "515ede11-8337-4ddf-919d-c307e7008155",
   "metadata": {},
   "outputs": [
    {
     "name": "stdin",
     "output_type": "stream",
     "text": [
      "Inserisci la base K:  2\n",
      "Inserisci quante potenze vuoi calcolare (N):  4\n"
     ]
    },
    {
     "name": "stdout",
     "output_type": "stream",
     "text": [
      "[1, 2, 4, 8]\n"
     ]
    }
   ],
   "source": [
    "#Esercizio Pag 11 for\n",
    "K = int(input(\"Inserisci la base K: \"))\n",
    "N = int(input(\"Inserisci quante potenze vuoi calcolare (N): \"))\n",
    "\n",
    "potenze = []\n",
    "for i in range(N):\n",
    "    potenze.append(K ** i)\n",
    "\n",
    "print(potenze)"
   ]
  },
  {
   "cell_type": "code",
   "execution_count": 13,
   "id": "0e649675-0bc3-440c-b775-f629d44e8643",
   "metadata": {},
   "outputs": [
    {
     "name": "stdout",
     "output_type": "stream",
     "text": [
      "Media guadagni: 70.0\n"
     ]
    }
   ],
   "source": [
    "#Esercizio Pag 12\n",
    "guadagni = [100, 90, 70, 40, 50, 80, 90, 120, 80, 20, 50, 50]\n",
    "\n",
    "somma = 0\n",
    "for valore in guadagni:\n",
    "    somma += valore\n",
    "\n",
    "media = somma / len(guadagni)\n",
    "\n",
    "print(\"Media guadagni:\", media)"
   ]
  },
  {
   "cell_type": "code",
   "execution_count": 19,
   "id": "bd0e9659-d6c7-44f3-a383-7d873f706cc7",
   "metadata": {},
   "outputs": [
    {
     "name": "stdout",
     "output_type": "stream",
     "text": [
      "La parola 'Albergo' contiene 1 'e'\n",
      "La parola 'Sedia' contiene 1 'e'\n",
      "La parola 'Borgo' contiene 0 'e'\n",
      "La parola 'Petalo' contiene 1 'e'\n",
      "La parola 'Eremo' contiene 2 'e'\n",
      "La parola 'Belvedere' contiene 4 'e'\n",
      "La parola 'Semestre' contiene 3 'e'\n",
      "La parola 'Esteta' contiene 2 'e'\n",
      "La parola 'Sosta' contiene 0 'e'\n",
      "La parola 'Orpello' contiene 1 'e'\n",
      "La parola 'Abete' contiene 2 'e'\n",
      "La parola 'Orologio' contiene 0 'e'\n",
      "La parola 'Cesta' contiene 1 'e'\n",
      "La parola 'Ermellino' contiene 2 'e'\n"
     ]
    }
   ],
   "source": [
    "#Esercizio Pag 13\n",
    "parole = [\"Albergo\", \"Sedia\", \"Borgo\", \"Petalo\", \"Eremo\", \"Belvedere\", \"Semestre\", \"Esteta\", \"Sosta\", \"Orpello\", \"Abete\", \"Orologio\", \"Cesta\", \"Ermellino\"]\n",
    "\n",
    "for singola_parola in parole:\n",
    "    conteggio_e = singola_parola.lower().count('e')\n",
    "    print(f\"La parola '{singola_parola}' contiene {conteggio_e} 'e'\")\n"
   ]
  },
  {
   "cell_type": "code",
   "execution_count": 25,
   "id": "046be1fa-f115-4ffd-b106-5c0a81e88ef1",
   "metadata": {},
   "outputs": [
    {
     "name": "stdout",
     "output_type": "stream",
     "text": [
      "La parola 'Albergo' contiene 1 'E/e'\n",
      "La parola 'Sedia' contiene 1 'E/e'\n",
      "La parola 'Borgo' contiene 0 'E/e'\n",
      "La parola 'Petalo' contiene 1 'E/e'\n",
      "La parola 'Eremo' contiene 2 'E/e'\n",
      "La parola 'Belvedere' contiene 4 'E/e'\n",
      "La parola 'Semestre' contiene 3 'E/e'\n",
      "La parola 'Esteta' contiene 2 'E/e'\n",
      "La parola 'Sosta' contiene 0 'E/e'\n",
      "La parola 'Orpello' contiene 1 'E/e'\n",
      "La parola 'Abete' contiene 2 'E/e'\n",
      "La parola 'Orologio' contiene 0 'E/e'\n",
      "La parola 'Cesta' contiene 1 'E/e'\n",
      "La parola 'Ermellino' contiene 2 'E/e'\n"
     ]
    }
   ],
   "source": [
    "#Esercizio Pag 13 (prova2)\n",
    "parole = [\"Albergo\", \"Sedia\", \"Borgo\", \"Petalo\", \"Eremo\", \"Belvedere\", \"Semestre\", \"Esteta\", \"Sosta\", \"Orpello\", \"Abete\", \"Orologio\", \"Cesta\", \"Ermellino\"]\n",
    "\n",
    "for singola_parola in parole:\n",
    "    conteggio_e = singola_parola.count('e')\n",
    "    conteggio_E = singola_parola.count('E')\n",
    "    somma_e = conteggio_e + conteggio_E\n",
    "    print(f\"La parola '{singola_parola}' contiene {somma_e} 'E/e'\")"
   ]
  },
  {
   "cell_type": "code",
   "execution_count": 27,
   "id": "2f7f2ab8-f27e-4c82-b18f-9e9925c5335d",
   "metadata": {},
   "outputs": [
    {
     "name": "stdout",
     "output_type": "stream",
     "text": [
      "{'Ada': 'Punto', 'Ben': 'Multipla', 'Charlie': 'Golf', 'Debbie': '107'}\n",
      "L'auto di Debbie è: 107\n"
     ]
    }
   ],
   "source": [
    "#Esercizio Pag 14\n",
    "auto_proprietari = {\n",
    "    \"Ada\": \"Punto\",\n",
    "    \"Ben\": \"Multipla\",\n",
    "    \"Charlie\": \"Golf\",\n",
    "    \"Debbie\": \"107\"\n",
    "}\n",
    "\n",
    "print(auto_proprietari)\n",
    "print(\"L'auto di Debbie è:\", auto_proprietari[\"Debbie\"])"
   ]
  },
  {
   "cell_type": "code",
   "execution_count": 29,
   "id": "7b6fb222-d7ee-4329-98dc-d48a75d2e022",
   "metadata": {},
   "outputs": [
    {
     "name": "stdout",
     "output_type": "stream",
     "text": [
      "Punto\n",
      "Golf\n",
      "107\n"
     ]
    }
   ],
   "source": [
    "#Esercizio Pag 15\n",
    "dizionario_auto = {\"Ada\": \"Punto\", \"Ben\": \"Multipla\", \"Charlie\": \"Golf\", \"Debbie\": \"107\"}\n",
    "\n",
    "for auto in dizionario_auto.values():\n",
    "    if auto != \"Multipla\":\n",
    "        print(auto)"
   ]
  },
  {
   "cell_type": "code",
   "execution_count": 39,
   "id": "e7be5ceb-fc9d-4aa6-a3b4-5be9e799fedc",
   "metadata": {},
   "outputs": [
    {
     "name": "stdout",
     "output_type": "stream",
     "text": [
      "{'Ada': 'Punto', 'Ben': 'Polo', 'Charlie': 'Golf', 'Debbie': '107', 'Emily': 'A1', 'Fred': 'Octavia', 'Grace': 'Yaris', 'Hugh': 'Clio'}\n",
      "Ben guida una: Polo\n"
     ]
    }
   ],
   "source": [
    "#Esercizio Pag 16\n",
    "dizionario_auto = {\"Ada\": \"Punto\", \"Ben\": \"Multipla\", \"Charlie\": \"Golf\", \"Debbie\": \"107\", \"Emily\": \"A1\"}\n",
    "nuovi_proprietari = {\"Ben\": \"Polo\", \"Fred\": \"Octavia\", \"Grace\": \"Yaris\", \"Hugh\": \"Clio\"}\n",
    "\n",
    "dizionario_auto.update(nuovi_proprietari)\n",
    "\n",
    "print(dizionario_auto)\n",
    "print(\"Ben guida una:\", dizionario_auto[\"Ben\"])"
   ]
  },
  {
   "cell_type": "code",
   "execution_count": null,
   "id": "7e491dbc-a228-4668-a4a5-407cd42f0287",
   "metadata": {},
   "outputs": [],
   "source": []
  }
 ],
 "metadata": {
  "kernelspec": {
   "display_name": "Python [conda env:base] *",
   "language": "python",
   "name": "conda-base-py"
  },
  "language_info": {
   "codemirror_mode": {
    "name": "ipython",
    "version": 3
   },
   "file_extension": ".py",
   "mimetype": "text/x-python",
   "name": "python",
   "nbconvert_exporter": "python",
   "pygments_lexer": "ipython3",
   "version": "3.12.7"
  }
 },
 "nbformat": 4,
 "nbformat_minor": 5
}
